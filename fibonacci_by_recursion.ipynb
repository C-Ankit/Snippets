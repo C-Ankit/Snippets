{
  "nbformat": 4,
  "nbformat_minor": 0,
  "metadata": {
    "colab": {
      "provenance": [],
      "collapsed_sections": []
    },
    "kernelspec": {
      "name": "python3",
      "display_name": "Python 3"
    },
    "language_info": {
      "name": "python"
    }
  },
  "cells": [
    {
      "cell_type": "code",
      "execution_count": null,
      "metadata": {
        "id": "eBlCX9URR1x3"
      },
      "outputs": [],
      "source": [
        "class Solution:\n",
        "    def climbStairs(self, n: int) -> int:\n",
        "        n1=1\n",
        "        n2=2\n",
        "        if n==1:\n",
        "            return  n1\n",
        "        if n==2:\n",
        "            return n2\n",
        "        for i in range(2,n):\n",
        "            sum=n1+n2\n",
        "            n1=n2\n",
        "            n2=sum\n",
        "        return sum\n",
        "\n"
      ]
    },
    {
      "cell_type": "code",
      "source": [
        "def fib(n: int ):\n",
        "  if n<=1:\n",
        "    return n\n",
        "  else:\n",
        "    return (fib(n-1) + fib(n-2))\n",
        "print(fib(6))"
      ],
      "metadata": {
        "colab": {
          "base_uri": "https://localhost:8080/"
        },
        "id": "rVvd7aV8c6zT",
        "outputId": "e2f34413-93bf-4c9b-b757-06ad1d683b43"
      },
      "execution_count": null,
      "outputs": [
        {
          "output_type": "stream",
          "name": "stdout",
          "text": [
            "8\n"
          ]
        }
      ]
    },
    {
      "cell_type": "code",
      "source": [],
      "metadata": {
        "id": "IsRaaoazdqgr"
      },
      "execution_count": null,
      "outputs": []
    }
  ]
}